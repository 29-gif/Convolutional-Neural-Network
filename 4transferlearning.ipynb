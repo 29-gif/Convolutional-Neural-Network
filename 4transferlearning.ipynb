{
 "cells": [
  {
   "cell_type": "code",
   "execution_count": null,
   "id": "bed42d60",
   "metadata": {},
   "outputs": [],
   "source": [
    "https://machinelearningmastery.com/keras-functional-api-deep-learning/  #for keras functional api deep learning"
   ]
  },
  {
   "cell_type": "code",
   "execution_count": null,
   "id": "62a21341",
   "metadata": {},
   "outputs": [],
   "source": [
    "https://www.kaggle.com/code/vishwamalani/transferlearning/"
   ]
  },
  {
   "cell_type": "code",
   "execution_count": null,
   "id": "75e826c7",
   "metadata": {},
   "outputs": [],
   "source": [
    "https://www.kaggle.com/code/vishwamalani/callbacksandtensorboard/\n",
    "    \n",
    "    or\n",
    "    \n",
    "https://colab.research.google.com/drive/1B2azaSX9g55olY473c7WAMf3E5-717Ge?usp=sharing"
   ]
  }
 ],
 "metadata": {
  "kernelspec": {
   "display_name": "Python 3 (ipykernel)",
   "language": "python",
   "name": "python3"
  },
  "language_info": {
   "codemirror_mode": {
    "name": "ipython",
    "version": 3
   },
   "file_extension": ".py",
   "mimetype": "text/x-python",
   "name": "python",
   "nbconvert_exporter": "python",
   "pygments_lexer": "ipython3",
   "version": "3.11.5"
  }
 },
 "nbformat": 4,
 "nbformat_minor": 5
}
